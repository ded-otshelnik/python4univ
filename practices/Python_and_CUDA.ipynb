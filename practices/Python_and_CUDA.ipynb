{
  "cells": [
    {
      "cell_type": "markdown",
      "metadata": {
        "id": "PQaXzagO5pz2"
      },
      "source": [
        "# Лабораторная работа 6. Параллельные вычисления на Python на графических процессорах"
      ]
    },
    {
      "cell_type": "markdown",
      "metadata": {
        "id": "qC4fThsku0s4"
      },
      "source": [
        "Для различных вычислительных задач Google Colab предоставляет доступ к своим графическим процессорам. В бесплатной версии для пользоватетей доступен графический процессор T4, который можно подключить на 4 часа.\n",
        "\n",
        "Чтобы включить, перейдите в меню \"\"Среда выполнения > Сменить среду выполнения\" и выберите \"T4 графический процессор\"."
      ]
    },
    {
      "cell_type": "markdown",
      "metadata": {
        "id": "d19V4Z_Gn5Uh"
      },
      "source": [
        "## 1. Numba + CUDA\n"
      ]
    },
    {
      "cell_type": "markdown",
      "source": [
        "Numba - компилятор для функций Python, которые работают с числами и массивами, позволяя ускорять код, написанные на чистом Python.\n",
        "\n",
        "Numba генерирует оптимизированный (насколько возможно) машинный код, используя специальный LLVM-компилятор и получая достаточно высокопроизводительный код без необходимости перехода на такие языки, как C/C++ или Fortran.\n",
        "\n",
        "Главные преимущества `numba`:\n",
        "\n",
        "+ JIT-компиляция - **компиляция по требованию/ленивая компиляция**;\n",
        "+ Генерация нативного кода для CPU и GPU;\n",
        "+ Интеграция со стеком научных библиотек через NumPy."
      ],
      "metadata": {
        "id": "cN7_KTGcGfrh"
      }
    },
    {
      "cell_type": "markdown",
      "metadata": {
        "id": "gPHbAYMQxFoF"
      },
      "source": [
        "### 1.1 Первоначальная настройка"
      ]
    },
    {
      "cell_type": "markdown",
      "metadata": {
        "id": "ilKMEgeb6ACw"
      },
      "source": [
        "Google Colab по-умолчанию, не запускает numba и CUDA, потому что не может найти библиотеки `libdevice` и `libnvvm.so`. Поэтому подключаем библиотеки вручную.\n",
        "\n",
        "Сначала найдем пути к файлам библиотек в файловой системе среды выполнения. Восклицательный знак в начале строки говорит о том, что данная команда должна выполняться командной строкой, а не Jupyter."
      ]
    },
    {
      "cell_type": "code",
      "execution_count": null,
      "metadata": {
        "colab": {
          "base_uri": "https://localhost:8080/"
        },
        "id": "Wu_4C6ec5IGn",
        "outputId": "57d7fa4f-1c12-4483-b25f-53a1bccdcb24"
      },
      "outputs": [
        {
          "output_type": "stream",
          "name": "stdout",
          "text": [
            "find: ‘/proc/64/task/64/net’: Invalid argument\n",
            "find: ‘/proc/64/net’: Invalid argument\n",
            "/usr/local/lib/python3.11/dist-packages/nvidia/cuda_nvcc/nvvm/libdevice\n",
            "/usr/local/cuda-12.5/nvvm/libdevice\n",
            "find: ‘/proc/64/task/64/net’: Invalid argument\n",
            "find: ‘/proc/64/net’: Invalid argument\n",
            "/usr/local/lib/python3.11/dist-packages/nvidia/cuda_nvcc/nvvm/lib64/libnvvm.so\n",
            "/usr/local/cuda-12.5/nvvm/lib64/libnvvm.so\n"
          ]
        }
      ],
      "source": [
        "!find / -iname 'libdevice'\n",
        "!find / -iname 'libnvvm.so'"
      ]
    },
    {
      "cell_type": "markdown",
      "metadata": {
        "id": "AM3Mzezf6n-n"
      },
      "source": [
        "Зная пути к файлам библиотеки, укажем значения для переменных окружения в Python."
      ]
    },
    {
      "cell_type": "code",
      "execution_count": null,
      "metadata": {
        "id": "qccUxLOI6oPg"
      },
      "outputs": [],
      "source": [
        "import os\n",
        "os.environ['NUMBAPRO_LIBDEVICE'] = \"/usr/local/cuda-12.5/nvvm/libdevice\"\n",
        "os.environ['NUMBAPRO_NVVM'] = \"/usr/local/cuda-12.5/nvvm/lib64/libnvvm.so\""
      ]
    },
    {
      "cell_type": "markdown",
      "metadata": {
        "id": "2pQWqJsa63j_"
      },
      "source": [
        "Готово! Теперь можем приступать к работе с numba + CUDA"
      ]
    },
    {
      "cell_type": "markdown",
      "metadata": {
        "id": "nbJWIEcTqYRY"
      },
      "source": [
        "Поскольку numba явно зависит от CUDA Runtime библиотек, то иногда требуется настроить среду таким образом, чтобы работала совместимость пакета и CUDA, к примеру, так:"
      ]
    },
    {
      "cell_type": "code",
      "execution_count": null,
      "metadata": {
        "id": "DOaj52Bmpgdq"
      },
      "outputs": [],
      "source": [
        "from numba import config\n",
        "config.CUDA_ENABLE_PYNVJITLINK = 1\n",
        "\n",
        "# Опциональные параметры, отключают предупреждения\n",
        "config.CUDA_LOW_OCCUPANCY_WARNINGS = 0\n",
        "config.DISABLE_PERFORMANCE_WARNINGS = 1"
      ]
    },
    {
      "cell_type": "markdown",
      "metadata": {
        "id": "fB7-ePE38NPr"
      },
      "source": [
        "### 1.2 Универсальные функции в NumPy\n",
        "\n",
        "Библиотека NumPy содержит универсальные функции (ufuncs), которые позволяют выполнять определнные действия над целыми массивами.\n",
        "\n",
        "Например, если есть массив чисел и необходимо найти их квадратные корни, то без использования NumPy мы бы это реализовали следующим образом"
      ]
    },
    {
      "cell_type": "code",
      "execution_count": null,
      "metadata": {
        "colab": {
          "base_uri": "https://localhost:8080/"
        },
        "id": "9OdGHWmq9E6y",
        "outputId": "551be22b-d1f1-4b2d-b50e-c4b9e065faf5"
      },
      "outputs": [
        {
          "output_type": "execute_result",
          "data": {
            "text/plain": [
              "[0.0,\n",
              " 1.0,\n",
              " 1.4142135623730951,\n",
              " 1.7320508075688772,\n",
              " 2.0,\n",
              " 2.23606797749979,\n",
              " 2.449489742783178,\n",
              " 2.6457513110645907,\n",
              " 2.8284271247461903,\n",
              " 3.0]"
            ]
          },
          "metadata": {},
          "execution_count": 4
        }
      ],
      "source": [
        "import math\n",
        "x = list(range(0, 10))\n",
        "[math.sqrt(xx) for xx in x]"
      ]
    },
    {
      "cell_type": "markdown",
      "metadata": {
        "id": "QImgwzzQ9eK1"
      },
      "source": [
        "С использованием NumPy и универсальных функций код принимает следующий вид"
      ]
    },
    {
      "cell_type": "code",
      "execution_count": null,
      "metadata": {
        "colab": {
          "base_uri": "https://localhost:8080/"
        },
        "id": "fv2NtUXb9iqP",
        "outputId": "b7c30b89-f4e9-42c8-e278-58088af843fb"
      },
      "outputs": [
        {
          "output_type": "execute_result",
          "data": {
            "text/plain": [
              "array([0.        , 1.        , 1.41421356, 1.73205081, 2.        ,\n",
              "       2.23606798, 2.44948974, 2.64575131, 2.82842712, 3.        ])"
            ]
          },
          "metadata": {},
          "execution_count": 5
        }
      ],
      "source": [
        "import numpy as np\n",
        "x = np.arange(10)\n",
        "np.sqrt(x)"
      ]
    },
    {
      "cell_type": "markdown",
      "metadata": {
        "id": "DNBYuCRP9uXk"
      },
      "source": [
        "Помимо синтаксического удобства универсальные функции NumPy оказываются быстрее, чем использование встроенных в Python функций. Это достигается за счет того, что универсальные функции в NumPy реализованы на С и Fortran.\n",
        "\n",
        "Сравните время выполнения операции вычисления квадратного корня для массива из 10 миллионов чисел на чистом Python и с использованием NumPy.\n",
        "\n",
        "* `%timeit` - команда Jupyter, которая позволяет узнать время выполнения кода, заданного далее в этой же строке. Команда запускает *n* раз код и выводит усредненный результат нескольких лучших запусков.\n",
        "* Чтобы измерить время выполнения всей ячейки кода, требуется добавить дополнительный символ процента, получая `%%timeit`\n",
        "* Для управления числом запусков, которая команда выполнит, используется флаг `-n`, после которого идет число запусков"
      ]
    },
    {
      "cell_type": "code",
      "execution_count": null,
      "metadata": {
        "colab": {
          "base_uri": "https://localhost:8080/"
        },
        "id": "2M6hVWYt9t-j",
        "outputId": "93a7a8be-f23e-45f4-de41-079876d8f212"
      },
      "outputs": [
        {
          "output_type": "stream",
          "name": "stdout",
          "text": [
            "1.68 s ± 415 ms per loop (mean ± std. dev. of 7 runs, 1 loop each)\n",
            "14.8 ms ± 3.12 ms per loop (mean ± std. dev. of 7 runs, 10 loops each)\n"
          ]
        }
      ],
      "source": [
        "x = np.arange(1e7, dtype=np.float32)\n",
        "%timeit [math.sqrt(item) for item in x]\n",
        "%timeit np.sqrt(x)"
      ]
    },
    {
      "cell_type": "markdown",
      "metadata": {
        "id": "vVzPgANd_UMr"
      },
      "source": [
        "Результат с использованием NumPy оказался приблизительно в 100 раз быстрее. И при этом универсальные функции даже не распараллелены - вычисление квадратных корней запускается последовательно в одном потоке на CPU.\n",
        "\n",
        "Теперь мы используем библиотеку numba, чтобы создать собственную универсальную функцию для вычисления квадратного корня, которые будут выполняться в нескольких потоках на GPU."
      ]
    },
    {
      "cell_type": "markdown",
      "metadata": {
        "id": "EQtBaFhwByJU"
      },
      "source": [
        "### 1.3. Пример использования numba: параллельное вычисление квадратных корней на GPU"
      ]
    },
    {
      "cell_type": "markdown",
      "metadata": {
        "id": "igN39s85B72X"
      },
      "source": [
        "Для создания универсальной функции `numba` необходимо использовать декоратор `@vectorize`. По умолчанию, код компилируется под CPU с использованием одного потока."
      ]
    },
    {
      "cell_type": "code",
      "execution_count": null,
      "metadata": {
        "colab": {
          "base_uri": "https://localhost:8080/"
        },
        "id": "2c_InPENB8Oh",
        "outputId": "08b74525-25c2-4221-de70-64af9d32dd67"
      },
      "outputs": [
        {
          "output_type": "execute_result",
          "data": {
            "text/plain": [
              "array([0.0000000e+00, 1.0000000e+00, 1.4142135e+00, ..., 3.1622771e+03,\n",
              "       3.1622773e+03, 3.1622776e+03], dtype=float32)"
            ]
          },
          "metadata": {},
          "execution_count": 7
        }
      ],
      "source": [
        "from numba import vectorize\n",
        "\n",
        "@vectorize\n",
        "def cpu_sqrt(x):\n",
        "  return math.sqrt(x)\n",
        "\n",
        "cpu_sqrt(x)"
      ]
    },
    {
      "cell_type": "markdown",
      "metadata": {
        "id": "gw5ObDmmDYlV"
      },
      "source": [
        "Декоратор `@vectorize` имеет ряд параметров, в которых можно указать доступные наборы типов входных и выходных данных, а также архитектуру (`target`), под которую компилируется функция.\n",
        "\n",
        "Поддерживаемые архитектуры:\n",
        "* `cpu` - однопоточное выполнение на CPU\n",
        "* `parallel` - многопоточное выполнение на CPU\n",
        "* `cuda` - многопоточное выполнение на GPU с использованием CUDA\n",
        "\n",
        "Рассмотрим многопоточное выполнение на GPU c использованием CUDA:"
      ]
    },
    {
      "cell_type": "code",
      "execution_count": null,
      "metadata": {
        "colab": {
          "base_uri": "https://localhost:8080/",
          "height": 356
        },
        "id": "K0MHojH5DWb5",
        "outputId": "cae61a1f-69ee-43f4-d207-9567c7d615fe"
      },
      "outputs": [
        {
          "output_type": "error",
          "ename": "TypeError",
          "evalue": "No matching version.  GPU ufunc requires array arguments to have the exact types.  This behaves like regular ufunc with casting='no'.",
          "traceback": [
            "\u001b[0;31m---------------------------------------------------------------------------\u001b[0m",
            "\u001b[0;31mTypeError\u001b[0m                                 Traceback (most recent call last)",
            "\u001b[0;32m<ipython-input-8-1c273f1e1941>\u001b[0m in \u001b[0;36m<cell line: 0>\u001b[0;34m()\u001b[0m\n\u001b[1;32m      3\u001b[0m   \u001b[0;32mreturn\u001b[0m \u001b[0mmath\u001b[0m\u001b[0;34m.\u001b[0m\u001b[0msqrt\u001b[0m\u001b[0;34m(\u001b[0m\u001b[0mx\u001b[0m\u001b[0;34m)\u001b[0m\u001b[0;34m\u001b[0m\u001b[0;34m\u001b[0m\u001b[0m\n\u001b[1;32m      4\u001b[0m \u001b[0;34m\u001b[0m\u001b[0m\n\u001b[0;32m----> 5\u001b[0;31m \u001b[0mgpu_sqrt\u001b[0m\u001b[0;34m(\u001b[0m\u001b[0mx\u001b[0m\u001b[0;34m)\u001b[0m\u001b[0;34m\u001b[0m\u001b[0;34m\u001b[0m\u001b[0m\n\u001b[0m",
            "\u001b[0;32m/usr/local/lib/python3.11/dist-packages/numba_cuda/numba/cuda/vectorizers.py\u001b[0m in \u001b[0;36m__call__\u001b[0;34m(self, *args, **kws)\u001b[0m\n\u001b[1;32m     26\u001b[0m                       \u001b[0mthe\u001b[0m \u001b[0minput\u001b[0m \u001b[0marguments\u001b[0m\u001b[0;34m.\u001b[0m\u001b[0;34m\u001b[0m\u001b[0;34m\u001b[0m\u001b[0m\n\u001b[1;32m     27\u001b[0m         \"\"\"\n\u001b[0;32m---> 28\u001b[0;31m         \u001b[0;32mreturn\u001b[0m \u001b[0mCUDAUFuncMechanism\u001b[0m\u001b[0;34m.\u001b[0m\u001b[0mcall\u001b[0m\u001b[0;34m(\u001b[0m\u001b[0mself\u001b[0m\u001b[0;34m.\u001b[0m\u001b[0mfunctions\u001b[0m\u001b[0;34m,\u001b[0m \u001b[0margs\u001b[0m\u001b[0;34m,\u001b[0m \u001b[0mkws\u001b[0m\u001b[0;34m)\u001b[0m\u001b[0;34m\u001b[0m\u001b[0;34m\u001b[0m\u001b[0m\n\u001b[0m\u001b[1;32m     29\u001b[0m \u001b[0;34m\u001b[0m\u001b[0m\n\u001b[1;32m     30\u001b[0m     \u001b[0;32mdef\u001b[0m \u001b[0mreduce\u001b[0m\u001b[0;34m(\u001b[0m\u001b[0mself\u001b[0m\u001b[0;34m,\u001b[0m \u001b[0marg\u001b[0m\u001b[0;34m,\u001b[0m \u001b[0mstream\u001b[0m\u001b[0;34m=\u001b[0m\u001b[0;36m0\u001b[0m\u001b[0;34m)\u001b[0m\u001b[0;34m:\u001b[0m\u001b[0;34m\u001b[0m\u001b[0;34m\u001b[0m\u001b[0m\n",
            "\u001b[0;32m/usr/local/lib/python3.11/dist-packages/numba_cuda/numba/cuda/deviceufunc.py\u001b[0m in \u001b[0;36mcall\u001b[0;34m(cls, typemap, args, kws)\u001b[0m\n\u001b[1;32m    252\u001b[0m         \u001b[0;31m# Begin call resolution\u001b[0m\u001b[0;34m\u001b[0m\u001b[0;34m\u001b[0m\u001b[0m\n\u001b[1;32m    253\u001b[0m         \u001b[0mcr\u001b[0m \u001b[0;34m=\u001b[0m \u001b[0mcls\u001b[0m\u001b[0;34m(\u001b[0m\u001b[0mtypemap\u001b[0m\u001b[0;34m,\u001b[0m \u001b[0margs\u001b[0m\u001b[0;34m)\u001b[0m\u001b[0;34m\u001b[0m\u001b[0;34m\u001b[0m\u001b[0m\n\u001b[0;32m--> 254\u001b[0;31m         \u001b[0margs\u001b[0m \u001b[0;34m=\u001b[0m \u001b[0mcr\u001b[0m\u001b[0;34m.\u001b[0m\u001b[0mget_arguments\u001b[0m\u001b[0;34m(\u001b[0m\u001b[0;34m)\u001b[0m\u001b[0;34m\u001b[0m\u001b[0;34m\u001b[0m\u001b[0m\n\u001b[0m\u001b[1;32m    255\u001b[0m         \u001b[0mresty\u001b[0m\u001b[0;34m,\u001b[0m \u001b[0mfunc\u001b[0m \u001b[0;34m=\u001b[0m \u001b[0mcr\u001b[0m\u001b[0;34m.\u001b[0m\u001b[0mget_function\u001b[0m\u001b[0;34m(\u001b[0m\u001b[0;34m)\u001b[0m\u001b[0;34m\u001b[0m\u001b[0;34m\u001b[0m\u001b[0m\n\u001b[1;32m    256\u001b[0m \u001b[0;34m\u001b[0m\u001b[0m\n",
            "\u001b[0;32m/usr/local/lib/python3.11/dist-packages/numba_cuda/numba/cuda/deviceufunc.py\u001b[0m in \u001b[0;36mget_arguments\u001b[0;34m(self)\u001b[0m\n\u001b[1;32m    202\u001b[0m         \u001b[0mself\u001b[0m\u001b[0;34m.\u001b[0m\u001b[0m_fill_arrays\u001b[0m\u001b[0;34m(\u001b[0m\u001b[0;34m)\u001b[0m\u001b[0;34m\u001b[0m\u001b[0;34m\u001b[0m\u001b[0m\n\u001b[1;32m    203\u001b[0m         \u001b[0mself\u001b[0m\u001b[0;34m.\u001b[0m\u001b[0m_fill_argtypes\u001b[0m\u001b[0;34m(\u001b[0m\u001b[0;34m)\u001b[0m\u001b[0;34m\u001b[0m\u001b[0;34m\u001b[0m\u001b[0m\n\u001b[0;32m--> 204\u001b[0;31m         \u001b[0mself\u001b[0m\u001b[0;34m.\u001b[0m\u001b[0m_resolve_signature\u001b[0m\u001b[0;34m(\u001b[0m\u001b[0;34m)\u001b[0m\u001b[0;34m\u001b[0m\u001b[0;34m\u001b[0m\u001b[0m\n\u001b[0m\u001b[1;32m    205\u001b[0m         \u001b[0marys\u001b[0m \u001b[0;34m=\u001b[0m \u001b[0mself\u001b[0m\u001b[0;34m.\u001b[0m\u001b[0m_get_actual_args\u001b[0m\u001b[0;34m(\u001b[0m\u001b[0;34m)\u001b[0m\u001b[0;34m\u001b[0m\u001b[0;34m\u001b[0m\u001b[0m\n\u001b[1;32m    206\u001b[0m         \u001b[0;32mreturn\u001b[0m \u001b[0mself\u001b[0m\u001b[0;34m.\u001b[0m\u001b[0m_broadcast\u001b[0m\u001b[0;34m(\u001b[0m\u001b[0marys\u001b[0m\u001b[0;34m)\u001b[0m\u001b[0;34m\u001b[0m\u001b[0;34m\u001b[0m\u001b[0m\n",
            "\u001b[0;32m/usr/local/lib/python3.11/dist-packages/numba_cuda/numba/cuda/deviceufunc.py\u001b[0m in \u001b[0;36m_resolve_signature\u001b[0;34m(self)\u001b[0m\n\u001b[1;32m    142\u001b[0m \u001b[0;34m\u001b[0m\u001b[0m\n\u001b[1;32m    143\u001b[0m         \u001b[0;32mif\u001b[0m \u001b[0;32mnot\u001b[0m \u001b[0mmatches\u001b[0m\u001b[0;34m:\u001b[0m\u001b[0;34m\u001b[0m\u001b[0;34m\u001b[0m\u001b[0m\n\u001b[0;32m--> 144\u001b[0;31m             raise TypeError(\"No matching version.  GPU ufunc requires array \"\n\u001b[0m\u001b[1;32m    145\u001b[0m                             \u001b[0;34m\"arguments to have the exact types.  This behaves \"\u001b[0m\u001b[0;34m\u001b[0m\u001b[0;34m\u001b[0m\u001b[0m\n\u001b[1;32m    146\u001b[0m                             \"like regular ufunc with casting='no'.\")\n",
            "\u001b[0;31mTypeError\u001b[0m: No matching version.  GPU ufunc requires array arguments to have the exact types.  This behaves like regular ufunc with casting='no'."
          ]
        }
      ],
      "source": [
        "@vectorize(target='cuda')\n",
        "def gpu_sqrt(x):\n",
        "  return math.sqrt(x)\n",
        "\n",
        "gpu_sqrt(x)"
      ]
    },
    {
      "cell_type": "markdown",
      "metadata": {
        "id": "m4Mu0KjIFAn_"
      },
      "source": [
        "Получили ошибку выполнения. Она связана с тем, что при компиляции с архитектурами `parallel` и `cuda` необходимо задать допустимые варианты типов входных и выходных данных в формате \"тип входных данных(тип выходных данных)\".\n",
        "\n",
        "Исправим предыдущий код, указав `float32` в качестве типа для входного аргумента и результата функции."
      ]
    },
    {
      "cell_type": "code",
      "execution_count": null,
      "metadata": {
        "colab": {
          "base_uri": "https://localhost:8080/"
        },
        "id": "GYvDXdhtFaXB",
        "outputId": "b26c51db-3550-4aea-bbf1-92c137d82a8b"
      },
      "outputs": [
        {
          "output_type": "execute_result",
          "data": {
            "text/plain": [
              "array([0.0000000e+00, 1.0000000e+00, 1.4142135e+00, ..., 3.1622771e+03,\n",
              "       3.1622773e+03, 3.1622776e+03], dtype=float32)"
            ]
          },
          "metadata": {},
          "execution_count": 9
        }
      ],
      "source": [
        "@vectorize(['float32(float32)'], target='cuda')\n",
        "def gpu_sqrt(x):\n",
        "  return math.sqrt(x)\n",
        "\n",
        "gpu_sqrt(x)"
      ]
    },
    {
      "cell_type": "markdown",
      "metadata": {
        "id": "rQysXHfNF5sU"
      },
      "source": [
        "Измерим время выполнения функции `gpu_sqrt` для массива из 10 миллионов чисел\n",
        "\n"
      ]
    },
    {
      "cell_type": "code",
      "execution_count": null,
      "metadata": {
        "colab": {
          "base_uri": "https://localhost:8080/"
        },
        "id": "gFuH5AbfGNXO",
        "outputId": "3c8b017e-a179-4c80-8df8-7c3badd96192"
      },
      "outputs": [
        {
          "output_type": "stream",
          "name": "stdout",
          "text": [
            "29.3 ms ± 583 µs per loop (mean ± std. dev. of 7 runs, 10 loops each)\n"
          ]
        }
      ],
      "source": [
        "%timeit -n 10 gpu_sqrt(x)"
      ]
    },
    {
      "cell_type": "markdown",
      "metadata": {
        "id": "o2ZvyuNbH2Sl"
      },
      "source": [
        "Сравним значение для CPU"
      ]
    },
    {
      "cell_type": "code",
      "execution_count": null,
      "metadata": {
        "colab": {
          "base_uri": "https://localhost:8080/"
        },
        "id": "YesBQyKZH1Cf",
        "outputId": "cd1ed49d-7297-4ba3-b309-bfe73bc88349"
      },
      "outputs": [
        {
          "output_type": "stream",
          "name": "stdout",
          "text": [
            "9.89 ms ± 333 µs per loop (mean ± std. dev. of 7 runs, 10 loops each)\n"
          ]
        }
      ],
      "source": [
        "%timeit -n 10 np.sqrt(x)"
      ]
    },
    {
      "cell_type": "markdown",
      "metadata": {
        "id": "9NiTiMi0H0UR"
      },
      "source": [
        "Так, стоп! Ведь на GPU же должно было быть быстрее, а в нашем случае приблизительно в 3 раза медленнее, чем на CPU!\n",
        "\n",
        "Дело в том, что под капотом процесс вычисления функции квадратного корня на GPU состоит из следующих этапов:\n",
        "* Загрузка исходных данных (в нашем случае, массива `x`) в память GPU\n",
        "* Параллельное вычисление квадратного корня на GPU для каждого элемента массива `x`\n",
        "* Выгрузка массива из GPU в оперативную память\n",
        "\n",
        "Операции загрузки и выгрузки данных в GPU довольно трудозатратны, поэтому использование GPU для слишком простых задач оказывается нецелесообразным, так как передача данных занимает гораздо больше времени, чем сами вычисления.\n",
        "\n",
        "Также на время выполнения влияет тип данных, поскольку видеокарты специфическим образом обрабатывают числа с плавающей точкой, из-за чего часто вместо float32/float64 берут float16, который обрабатывается хорошо на видеокартах."
      ]
    },
    {
      "cell_type": "markdown",
      "metadata": {
        "id": "WH0CVacHLotS"
      },
      "source": [
        "## 1.4. Пример: вычисление полярных координат на GPU\n",
        "\n",
        "Пусть имеется $10^7$ точек на плоскости, координаты которых заданы в декартовой системе координат. Требуется вычислить полярные координаты этих точек.\n",
        "\n",
        "Прежде всего, сформируем входной массив точек"
      ]
    },
    {
      "cell_type": "code",
      "execution_count": null,
      "metadata": {
        "id": "qtxQgUQBO61z"
      },
      "outputs": [],
      "source": [
        "points = np.random.multivariate_normal([0, 0], [[3., 2.5], [2.5, 3.]], 10**7).astype(np.float16)"
      ]
    },
    {
      "cell_type": "code",
      "source": [
        "import matplotlib.pyplot as plt\n",
        "plt.scatter(points[:, 0], points[:, 1])\n",
        "plt.show()"
      ],
      "metadata": {
        "id": "Njn8VWVfjNbD",
        "outputId": "5832e913-1722-4d4d-8853-585315c31d42",
        "colab": {
          "base_uri": "https://localhost:8080/",
          "height": 435
        }
      },
      "execution_count": null,
      "outputs": [
        {
          "output_type": "display_data",
          "data": {
            "text/plain": [
              "<Figure size 640x480 with 1 Axes>"
            ],
            "image/png": "[encoded data removed]"
          },
          "metadata": {}
        }
      ]
    },
    {
      "cell_type": "markdown",
      "metadata": {
        "id": "_FHsm72uPTvW"
      },
      "source": [
        "Полярные координаты вычисляются по формулам:\n",
        "\n",
        "$R = \\sqrt{x^2 + y^2}$\n",
        "\n",
        "$\\phi = arctan2(y, x)$\n",
        "\n",
        "`R` получается довольно просто вычислением квадратного корня. А для вычисления полярного угла нам необходимо использовать функцию `arctan2`\n",
        "\n",
        "С использованием `NumPy` нахождение полярных координат можно реализовать следующим образом"
      ]
    },
    {
      "cell_type": "code",
      "execution_count": null,
      "metadata": {
        "id": "yvmQokwQQqpY",
        "outputId": "d353d37b-602d-40dc-fcac-9c2c943e5570",
        "colab": {
          "base_uri": "https://localhost:8080/",
          "height": 430
        }
      },
      "outputs": [
        {
          "output_type": "display_data",
          "data": {
            "text/plain": [
              "<Figure size 640x480 with 1 Axes>"
            ],
            "image/png": "[encoded data removed]"
          },
          "metadata": {}
        }
      ],
      "source": [
        "phi = np.arctan2(points[:, 1], points[:, 0])\n",
        "_ = plt.hist(phi, bins=200)"
      ]
    },
    {
      "cell_type": "markdown",
      "metadata": {
        "id": "-W73pAsSQRy-"
      },
      "source": [
        "Теперь реализуем GPU версию с использованием numba + CUDA"
      ]
    },
    {
      "cell_type": "code",
      "execution_count": null,
      "metadata": {
        "colab": {
          "base_uri": "https://localhost:8080/",
          "height": 356
        },
        "id": "cTMqVQIoRAbH",
        "outputId": "297833dd-bc2a-4a8a-c510-0b411e621644"
      },
      "outputs": [
        {
          "output_type": "error",
          "ename": "ValueError",
          "evalue": "Array contains non-contiguous buffer and cannot be transferred as a single memory region. Please ensure contiguous buffer with numpy .ascontiguousarray()",
          "traceback": [
            "\u001b[0;31m---------------------------------------------------------------------------\u001b[0m",
            "\u001b[0;31mValueError\u001b[0m                                Traceback (most recent call last)",
            "\u001b[0;32m<ipython-input-20-95debf77244d>\u001b[0m in \u001b[0;36m<cell line: 0>\u001b[0;34m()\u001b[0m\n\u001b[1;32m      5\u001b[0m   \u001b[0;32mreturn\u001b[0m \u001b[0mmath\u001b[0m\u001b[0;34m.\u001b[0m\u001b[0matan2\u001b[0m\u001b[0;34m(\u001b[0m\u001b[0my\u001b[0m\u001b[0;34m,\u001b[0m \u001b[0mx\u001b[0m\u001b[0;34m)\u001b[0m\u001b[0;34m\u001b[0m\u001b[0;34m\u001b[0m\u001b[0m\n\u001b[1;32m      6\u001b[0m \u001b[0;34m\u001b[0m\u001b[0m\n\u001b[0;32m----> 7\u001b[0;31m \u001b[0mphi\u001b[0m \u001b[0;34m=\u001b[0m \u001b[0mgpu_arctan2\u001b[0m\u001b[0;34m(\u001b[0m\u001b[0mpoints\u001b[0m\u001b[0;34m[\u001b[0m\u001b[0;34m:\u001b[0m\u001b[0;34m,\u001b[0m\u001b[0;36m1\u001b[0m\u001b[0;34m]\u001b[0m\u001b[0;34m,\u001b[0m \u001b[0mpoints\u001b[0m\u001b[0;34m[\u001b[0m\u001b[0;34m:\u001b[0m\u001b[0;34m,\u001b[0m\u001b[0;36m0\u001b[0m\u001b[0;34m]\u001b[0m\u001b[0;34m)\u001b[0m\u001b[0;34m\u001b[0m\u001b[0;34m\u001b[0m\u001b[0m\n\u001b[0m",
            "\u001b[0;32m/usr/local/lib/python3.11/dist-packages/numba_cuda/numba/cuda/vectorizers.py\u001b[0m in \u001b[0;36m__call__\u001b[0;34m(self, *args, **kws)\u001b[0m\n\u001b[1;32m     26\u001b[0m                       \u001b[0mthe\u001b[0m \u001b[0minput\u001b[0m \u001b[0marguments\u001b[0m\u001b[0;34m.\u001b[0m\u001b[0;34m\u001b[0m\u001b[0;34m\u001b[0m\u001b[0m\n\u001b[1;32m     27\u001b[0m         \"\"\"\n\u001b[0;32m---> 28\u001b[0;31m         \u001b[0;32mreturn\u001b[0m \u001b[0mCUDAUFuncMechanism\u001b[0m\u001b[0;34m.\u001b[0m\u001b[0mcall\u001b[0m\u001b[0;34m(\u001b[0m\u001b[0mself\u001b[0m\u001b[0;34m.\u001b[0m\u001b[0mfunctions\u001b[0m\u001b[0;34m,\u001b[0m \u001b[0margs\u001b[0m\u001b[0;34m,\u001b[0m \u001b[0mkws\u001b[0m\u001b[0;34m)\u001b[0m\u001b[0;34m\u001b[0m\u001b[0;34m\u001b[0m\u001b[0m\n\u001b[0m\u001b[1;32m     29\u001b[0m \u001b[0;34m\u001b[0m\u001b[0m\n\u001b[1;32m     30\u001b[0m     \u001b[0;32mdef\u001b[0m \u001b[0mreduce\u001b[0m\u001b[0;34m(\u001b[0m\u001b[0mself\u001b[0m\u001b[0;34m,\u001b[0m \u001b[0marg\u001b[0m\u001b[0;34m,\u001b[0m \u001b[0mstream\u001b[0m\u001b[0;34m=\u001b[0m\u001b[0;36m0\u001b[0m\u001b[0;34m)\u001b[0m\u001b[0;34m:\u001b[0m\u001b[0;34m\u001b[0m\u001b[0;34m\u001b[0m\u001b[0m\n",
            "\u001b[0;32m/usr/local/lib/python3.11/dist-packages/numba_cuda/numba/cuda/deviceufunc.py\u001b[0m in \u001b[0;36mcall\u001b[0;34m(cls, typemap, args, kws)\u001b[0m\n\u001b[1;32m    289\u001b[0m                 \u001b[0many_device\u001b[0m \u001b[0;34m=\u001b[0m \u001b[0;32mTrue\u001b[0m\u001b[0;34m\u001b[0m\u001b[0;34m\u001b[0m\u001b[0m\n\u001b[1;32m    290\u001b[0m             \u001b[0;32melse\u001b[0m\u001b[0;34m:\u001b[0m\u001b[0;34m\u001b[0m\u001b[0;34m\u001b[0m\u001b[0m\n\u001b[0;32m--> 291\u001b[0;31m                 \u001b[0mdev_a\u001b[0m \u001b[0;34m=\u001b[0m \u001b[0mcr\u001b[0m\u001b[0;34m.\u001b[0m\u001b[0mto_device\u001b[0m\u001b[0;34m(\u001b[0m\u001b[0ma\u001b[0m\u001b[0;34m,\u001b[0m \u001b[0mstream\u001b[0m\u001b[0;34m=\u001b[0m\u001b[0mstream\u001b[0m\u001b[0;34m)\u001b[0m\u001b[0;34m\u001b[0m\u001b[0;34m\u001b[0m\u001b[0m\n\u001b[0m\u001b[1;32m    292\u001b[0m                 \u001b[0mdevarys\u001b[0m\u001b[0;34m.\u001b[0m\u001b[0mappend\u001b[0m\u001b[0;34m(\u001b[0m\u001b[0mdev_a\u001b[0m\u001b[0;34m)\u001b[0m\u001b[0;34m\u001b[0m\u001b[0;34m\u001b[0m\u001b[0m\n\u001b[1;32m    293\u001b[0m \u001b[0;34m\u001b[0m\u001b[0m\n",
            "\u001b[0;32m/usr/local/lib/python3.11/dist-packages/numba_cuda/numba/cuda/vectorizers.py\u001b[0m in \u001b[0;36mto_device\u001b[0;34m(self, hostary, stream)\u001b[0m\n\u001b[1;32m    165\u001b[0m \u001b[0;34m\u001b[0m\u001b[0m\n\u001b[1;32m    166\u001b[0m     \u001b[0;32mdef\u001b[0m \u001b[0mto_device\u001b[0m\u001b[0;34m(\u001b[0m\u001b[0mself\u001b[0m\u001b[0;34m,\u001b[0m \u001b[0mhostary\u001b[0m\u001b[0;34m,\u001b[0m \u001b[0mstream\u001b[0m\u001b[0;34m)\u001b[0m\u001b[0;34m:\u001b[0m\u001b[0;34m\u001b[0m\u001b[0;34m\u001b[0m\u001b[0m\n\u001b[0;32m--> 167\u001b[0;31m         \u001b[0;32mreturn\u001b[0m \u001b[0mcuda\u001b[0m\u001b[0;34m.\u001b[0m\u001b[0mto_device\u001b[0m\u001b[0;34m(\u001b[0m\u001b[0mhostary\u001b[0m\u001b[0;34m,\u001b[0m \u001b[0mstream\u001b[0m\u001b[0;34m=\u001b[0m\u001b[0mstream\u001b[0m\u001b[0;34m)\u001b[0m\u001b[0;34m\u001b[0m\u001b[0;34m\u001b[0m\u001b[0m\n\u001b[0m\u001b[1;32m    168\u001b[0m \u001b[0;34m\u001b[0m\u001b[0m\n\u001b[1;32m    169\u001b[0m     \u001b[0;32mdef\u001b[0m \u001b[0mto_host\u001b[0m\u001b[0;34m(\u001b[0m\u001b[0mself\u001b[0m\u001b[0;34m,\u001b[0m \u001b[0mdevary\u001b[0m\u001b[0;34m,\u001b[0m \u001b[0mstream\u001b[0m\u001b[0;34m)\u001b[0m\u001b[0;34m:\u001b[0m\u001b[0;34m\u001b[0m\u001b[0;34m\u001b[0m\u001b[0m\n",
            "\u001b[0;32m/usr/local/lib/python3.11/dist-packages/numba_cuda/numba/cuda/cudadrv/devices.py\u001b[0m in \u001b[0;36m_require_cuda_context\u001b[0;34m(*args, **kws)\u001b[0m\n\u001b[1;32m    230\u001b[0m     \u001b[0;32mdef\u001b[0m \u001b[0m_require_cuda_context\u001b[0m\u001b[0;34m(\u001b[0m\u001b[0;34m*\u001b[0m\u001b[0margs\u001b[0m\u001b[0;34m,\u001b[0m \u001b[0;34m**\u001b[0m\u001b[0mkws\u001b[0m\u001b[0;34m)\u001b[0m\u001b[0;34m:\u001b[0m\u001b[0;34m\u001b[0m\u001b[0;34m\u001b[0m\u001b[0m\n\u001b[1;32m    231\u001b[0m         \u001b[0;32mwith\u001b[0m \u001b[0m_runtime\u001b[0m\u001b[0;34m.\u001b[0m\u001b[0mensure_context\u001b[0m\u001b[0;34m(\u001b[0m\u001b[0;34m)\u001b[0m\u001b[0;34m:\u001b[0m\u001b[0;34m\u001b[0m\u001b[0;34m\u001b[0m\u001b[0m\n\u001b[0;32m--> 232\u001b[0;31m             \u001b[0;32mreturn\u001b[0m \u001b[0mfn\u001b[0m\u001b[0;34m(\u001b[0m\u001b[0;34m*\u001b[0m\u001b[0margs\u001b[0m\u001b[0;34m,\u001b[0m \u001b[0;34m**\u001b[0m\u001b[0mkws\u001b[0m\u001b[0;34m)\u001b[0m\u001b[0;34m\u001b[0m\u001b[0;34m\u001b[0m\u001b[0m\n\u001b[0m\u001b[1;32m    233\u001b[0m \u001b[0;34m\u001b[0m\u001b[0m\n\u001b[1;32m    234\u001b[0m     \u001b[0;32mreturn\u001b[0m \u001b[0m_require_cuda_context\u001b[0m\u001b[0;34m\u001b[0m\u001b[0;34m\u001b[0m\u001b[0m\n",
            "\u001b[0;32m/usr/local/lib/python3.11/dist-packages/numba_cuda/numba/cuda/api.py\u001b[0m in \u001b[0;36mto_device\u001b[0;34m(obj, stream, copy, to)\u001b[0m\n\u001b[1;32m    126\u001b[0m     \"\"\"\n\u001b[1;32m    127\u001b[0m     \u001b[0;32mif\u001b[0m \u001b[0mto\u001b[0m \u001b[0;32mis\u001b[0m \u001b[0;32mNone\u001b[0m\u001b[0;34m:\u001b[0m\u001b[0;34m\u001b[0m\u001b[0;34m\u001b[0m\u001b[0m\n\u001b[0;32m--> 128\u001b[0;31m         to, new = devicearray.auto_device(obj, stream=stream, copy=copy,\n\u001b[0m\u001b[1;32m    129\u001b[0m                                           user_explicit=True)\n\u001b[1;32m    130\u001b[0m         \u001b[0;32mreturn\u001b[0m \u001b[0mto\u001b[0m\u001b[0;34m\u001b[0m\u001b[0;34m\u001b[0m\u001b[0m\n",
            "\u001b[0;32m/usr/local/lib/python3.11/dist-packages/numba_cuda/numba/cuda/cudadrv/devicearray.py\u001b[0m in \u001b[0;36mauto_device\u001b[0;34m(obj, stream, copy, user_explicit)\u001b[0m\n\u001b[1;32m    874\u001b[0m                 \u001b[0mcopy\u001b[0m\u001b[0;34m=\u001b[0m\u001b[0;32mFalse\u001b[0m \u001b[0;32mif\u001b[0m \u001b[0mnumpy_version\u001b[0m \u001b[0;34m<\u001b[0m \u001b[0;34m(\u001b[0m\u001b[0;36m2\u001b[0m\u001b[0;34m,\u001b[0m \u001b[0;36m0\u001b[0m\u001b[0;34m)\u001b[0m \u001b[0;32melse\u001b[0m \u001b[0;32mNone\u001b[0m\u001b[0;34m,\u001b[0m\u001b[0;34m\u001b[0m\u001b[0;34m\u001b[0m\u001b[0m\n\u001b[1;32m    875\u001b[0m                 subok=True)\n\u001b[0;32m--> 876\u001b[0;31m             \u001b[0msentry_contiguous\u001b[0m\u001b[0;34m(\u001b[0m\u001b[0mobj\u001b[0m\u001b[0;34m)\u001b[0m\u001b[0;34m\u001b[0m\u001b[0;34m\u001b[0m\u001b[0m\n\u001b[0m\u001b[1;32m    877\u001b[0m             \u001b[0mdevobj\u001b[0m \u001b[0;34m=\u001b[0m \u001b[0mfrom_array_like\u001b[0m\u001b[0;34m(\u001b[0m\u001b[0mobj\u001b[0m\u001b[0;34m,\u001b[0m \u001b[0mstream\u001b[0m\u001b[0;34m=\u001b[0m\u001b[0mstream\u001b[0m\u001b[0;34m)\u001b[0m\u001b[0;34m\u001b[0m\u001b[0;34m\u001b[0m\u001b[0m\n\u001b[1;32m    878\u001b[0m         \u001b[0;32mif\u001b[0m \u001b[0mcopy\u001b[0m\u001b[0;34m:\u001b[0m\u001b[0;34m\u001b[0m\u001b[0;34m\u001b[0m\u001b[0m\n",
            "\u001b[0;32m/usr/local/lib/python3.11/dist-packages/numba_cuda/numba/cuda/cudadrv/devicearray.py\u001b[0m in \u001b[0;36msentry_contiguous\u001b[0;34m(ary)\u001b[0m\n\u001b[1;32m    848\u001b[0m     \u001b[0mcore\u001b[0m \u001b[0;34m=\u001b[0m \u001b[0marray_core\u001b[0m\u001b[0;34m(\u001b[0m\u001b[0mary\u001b[0m\u001b[0;34m)\u001b[0m\u001b[0;34m\u001b[0m\u001b[0;34m\u001b[0m\u001b[0m\n\u001b[1;32m    849\u001b[0m     \u001b[0;32mif\u001b[0m \u001b[0;32mnot\u001b[0m \u001b[0mcore\u001b[0m\u001b[0;34m.\u001b[0m\u001b[0mflags\u001b[0m\u001b[0;34m[\u001b[0m\u001b[0;34m'C_CONTIGUOUS'\u001b[0m\u001b[0;34m]\u001b[0m \u001b[0;32mand\u001b[0m \u001b[0;32mnot\u001b[0m \u001b[0mcore\u001b[0m\u001b[0;34m.\u001b[0m\u001b[0mflags\u001b[0m\u001b[0;34m[\u001b[0m\u001b[0;34m'F_CONTIGUOUS'\u001b[0m\u001b[0;34m]\u001b[0m\u001b[0;34m:\u001b[0m\u001b[0;34m\u001b[0m\u001b[0;34m\u001b[0m\u001b[0m\n\u001b[0;32m--> 850\u001b[0;31m         \u001b[0;32mraise\u001b[0m \u001b[0mValueError\u001b[0m\u001b[0;34m(\u001b[0m\u001b[0merrmsg_contiguous_buffer\u001b[0m\u001b[0;34m)\u001b[0m\u001b[0;34m\u001b[0m\u001b[0;34m\u001b[0m\u001b[0m\n\u001b[0m\u001b[1;32m    851\u001b[0m \u001b[0;34m\u001b[0m\u001b[0m\n\u001b[1;32m    852\u001b[0m \u001b[0;34m\u001b[0m\u001b[0m\n",
            "\u001b[0;31mValueError\u001b[0m: Array contains non-contiguous buffer and cannot be transferred as a single memory region. Please ensure contiguous buffer with numpy .ascontiguousarray()"
          ]
        }
      ],
      "source": [
        "@vectorize(['float64(float64, float64)',\n",
        "            'float32(float32, float32)',\n",
        "            'float16(float16, float16)'], target='cuda')\n",
        "def gpu_arctan2(y, x):\n",
        "  return math.atan2(y, x)\n",
        "\n",
        "phi = gpu_arctan2(points[:, 1], points[:, 0])"
      ]
    },
    {
      "cell_type": "markdown",
      "metadata": {
        "id": "GuHRq2vARlv8"
      },
      "source": [
        "И... получили ошибку. По её описанию становится ясно, что массивы `points[:, 0]` и `points[:, 1]` не хранятся в непрерывной области памяти. Поэтому нам нужно последовать рекомендации и сохранить массив в непрерывной области памяти, используя `np.ascontiguousarray()`.\n",
        "\n",
        "Следует запомнить, что CUDA работает только с массивами, хранящимися в **непрерывной** области памяти. Такими массивами являются массивы в С/Fortran или те же массивы в NumPy до вычисления их срезов."
      ]
    },
    {
      "cell_type": "code",
      "execution_count": null,
      "metadata": {
        "id": "KOcf3KriTPmu",
        "outputId": "3c6cb487-41cd-4bab-d3e2-d3462faf72f4",
        "colab": {
          "base_uri": "https://localhost:8080/",
          "height": 430
        }
      },
      "outputs": [
        {
          "output_type": "display_data",
          "data": {
            "text/plain": [
              "<Figure size 640x480 with 1 Axes>"
            ],
            "image/png": "[encoded data removed]"
          },
          "metadata": {}
        }
      ],
      "source": [
        "x = np.ascontiguousarray(points[:, 0])\n",
        "y = np.ascontiguousarray(points[:, 1])\n",
        "phi = gpu_arctan2(y, x)\n",
        "_ = plt.hist(phi, bins=200)"
      ]
    },
    {
      "cell_type": "markdown",
      "metadata": {
        "id": "LQfCA0W2TjvV"
      },
      "source": [
        "Теперь код работает и возвращает тот же самый результат, что и CPU реализация.\n",
        "\n",
        "Сравним время выполнения"
      ]
    },
    {
      "cell_type": "code",
      "execution_count": null,
      "metadata": {
        "colab": {
          "base_uri": "https://localhost:8080/"
        },
        "id": "LUaCP2O7aEhP",
        "outputId": "d70c9c4c-2d08-48f5-fa47-a4f80b5b071a"
      },
      "outputs": [
        {
          "output_type": "stream",
          "name": "stdout",
          "text": [
            "17 ms ± 612 µs per loop (mean ± std. dev. of 7 runs, 100 loops each)\n",
            "583 ms ± 110 ms per loop (mean ± std. dev. of 7 runs, 1 loop each)\n"
          ]
        }
      ],
      "source": [
        "# На float16\n",
        "x = x.astype(np.float16)\n",
        "y = y.astype(np.float16)\n",
        "%timeit gpu_arctan2(y, x)\n",
        "%timeit np.arctan2(y, x)"
      ]
    },
    {
      "cell_type": "code",
      "source": [
        "# На float32\n",
        "x = x.astype(np.float32)\n",
        "y = y.astype(np.float32)\n",
        "%timeit gpu_arctan2(y, x)\n",
        "%timeit np.arctan2(y, x)"
      ],
      "metadata": {
        "id": "4ffxOk_8g8Pq",
        "outputId": "e62faaea-7630-42fd-93fe-5ec95959a2b6",
        "colab": {
          "base_uri": "https://localhost:8080/"
        }
      },
      "execution_count": null,
      "outputs": [
        {
          "output_type": "stream",
          "name": "stdout",
          "text": [
            "39.1 ms ± 1.21 ms per loop (mean ± std. dev. of 7 runs, 10 loops each)\n",
            "20.2 ms ± 2.13 ms per loop (mean ± std. dev. of 7 runs, 100 loops each)\n"
          ]
        }
      ]
    },
    {
      "cell_type": "code",
      "source": [
        "# На float64\n",
        "x = x.astype(np.float64)\n",
        "y = y.astype(np.float64)\n",
        "%timeit gpu_arctan2(y, x)\n",
        "%timeit np.arctan2(y, x)"
      ],
      "metadata": {
        "id": "SCqsuFXmhMh4",
        "outputId": "e95a6146-9ce1-4ae6-a31f-fd366c7509a1",
        "colab": {
          "base_uri": "https://localhost:8080/"
        }
      },
      "execution_count": null,
      "outputs": [
        {
          "output_type": "stream",
          "name": "stdout",
          "text": [
            "79.7 ms ± 3.12 ms per loop (mean ± std. dev. of 7 runs, 10 loops each)\n",
            "54.7 ms ± 1.4 ms per loop (mean ± std. dev. of 7 runs, 10 loops each)\n"
          ]
        }
      ]
    },
    {
      "cell_type": "code",
      "execution_count": null,
      "metadata": {
        "colab": {
          "base_uri": "https://localhost:8080/"
        },
        "id": "-HnSCxAR-q-Z",
        "outputId": "790d369f-dde3-4180-bc76-a90c6f44a0e8"
      },
      "outputs": [
        {
          "output_type": "stream",
          "name": "stdout",
          "text": [
            "4.88 s ± 935 ms per loop (mean ± std. dev. of 7 runs, 1 loop each)\n",
            "4.82 s ± 838 ms per loop (mean ± std. dev. of 7 runs, 1 loop each)\n",
            "4.53 s ± 610 ms per loop (mean ± std. dev. of 7 runs, 1 loop each)\n"
          ]
        }
      ],
      "source": [
        "points = points.astype(np.float16)\n",
        "%timeit [math.atan2(point[1], point[0]) for point in points]\n",
        "points = points.astype(np.float32)\n",
        "%timeit [math.atan2(point[1], point[0]) for point in points]\n",
        "points = points.astype(np.float64)\n",
        "%timeit [math.atan2(point[1], point[0]) for point in points]"
      ]
    },
    {
      "cell_type": "markdown",
      "metadata": {
        "id": "AV0T5-ZQUj5h"
      },
      "source": [
        "Как можно увидеть, в зависимости от типа данных, GPU и NumPy CPU ведут себя по-разному, при этом всегда уделывая чистый Python.\n",
        "\n",
        "Таким образом, для того, чтобы эффективно использовать GPU, вычисления должны быть сложными и идти на большом наборе данных с применением правильного типа данных."
      ]
    },
    {
      "cell_type": "markdown",
      "metadata": {
        "id": "lSn9rBfKVVxO"
      },
      "source": [
        "### 1.4. Обобщенные универсальные функции"
      ]
    },
    {
      "cell_type": "markdown",
      "metadata": {
        "id": "urQuDk0IM7Xi"
      },
      "source": [
        "Обычные универсальные функции применяются для каждого элемента входного массива и возвращают скаляр. Однако на практике зачастую нужно работать с подмассивами входного массива и возвращать данные в разных измерениях.\n",
        "\n",
        "Вернемся к примеру с вычислением полярных координат. Реализованная нами функция позволяет вычислить только полярный угол, но в полноценной реализации функции вычисления полярных координат нам нужно также вычислять радиальную компоненту.\n",
        "\n",
        "Для реализации обобщенных универсальных функций в numba используется декоратор `@guvectorize`. С его помощью можно реализовать функцию вычисления полярных координат."
      ]
    },
    {
      "cell_type": "code",
      "execution_count": null,
      "metadata": {
        "id": "_bv4pifaVXQu"
      },
      "outputs": [],
      "source": [
        "from numba import guvectorize\n",
        "\n",
        "@guvectorize(['(float32[:], float32[:])'], '(n)->(n)', target='cuda')\n",
        "def gpu_polar(vec, res):\n",
        "  x = vec[0]\n",
        "  y = vec[1]\n",
        "  res[0] = math.sqrt(x**2 + y**2)\n",
        "  res[1] = math.atan2(y, x)"
      ]
    },
    {
      "cell_type": "markdown",
      "metadata": {
        "id": "17mQCUBdPEKT"
      },
      "source": [
        "Обратите внимание на отличия `@guvectorize` от `@vectorize`:\n",
        "* Выходное значение передается в качестве параметра и изменяется in-place без выделения дополнительной памяти\n",
        "* Требуется передавать сигнатуру операции. В нашем случае сигнатура `(n)->(n)` означает, что массив длины `n`, переданный в качестве первого аргумента функции, преобразуется в массив длины `n`, представленный вторым аргументом функции."
      ]
    },
    {
      "cell_type": "code",
      "execution_count": null,
      "metadata": {
        "id": "epk9zkV9P0Kj"
      },
      "outputs": [],
      "source": [
        "polar_coords = gpu_polar(points.astype(np.float32))"
      ]
    },
    {
      "cell_type": "code",
      "execution_count": null,
      "metadata": {
        "colab": {
          "base_uri": "https://localhost:8080/",
          "height": 449
        },
        "id": "fk7tQD3uP8eo",
        "outputId": "579628d6-f90e-45e1-e2b7-a30ad4dcccad"
      },
      "outputs": [
        {
          "output_type": "display_data",
          "data": {
            "text/plain": [
              "<Figure size 640x480 with 1 Axes>"
            ],
            "image/png": "[encoded data removed]"
          },
          "metadata": {}
        }
      ],
      "source": [
        "_ = plt.hist(polar_coords[:,0], bins=200)\n",
        "_ = plt.xlabel('R')"
      ]
    },
    {
      "cell_type": "code",
      "execution_count": null,
      "metadata": {
        "colab": {
          "base_uri": "https://localhost:8080/",
          "height": 449
        },
        "id": "tAcx8qebP-A1",
        "outputId": "d8936675-bd61-4b3a-90c5-d084ea15c426"
      },
      "outputs": [
        {
          "output_type": "display_data",
          "data": {
            "text/plain": [
              "<Figure size 640x480 with 1 Axes>"
            ],
            "image/png": "[encoded data removed]"
          },
          "metadata": {}
        }
      ],
      "source": [
        "_ = plt.hist(polar_coords[:,1], bins=200)\n",
        "_ = plt.xlabel('phi')"
      ]
    },
    {
      "cell_type": "markdown",
      "metadata": {
        "id": "dU9vfbH4ezcL"
      },
      "source": [
        "## 1.5. Использование CUDA, управление памятью GPU"
      ]
    },
    {
      "cell_type": "markdown",
      "metadata": {
        "id": "Ni5IfT3TQ9_s"
      },
      "source": [
        "В первом примере мы упомянули, что при вызове функции на GPU numba автоматически копирует входнные и выходные данные в GPU. Библиотека numba также предоставляет возможность делать это вручную.\n",
        "\n",
        "Модуль `numba.cuda` содержит функции для непосредственной работы с CUDA, в том числе функции копирования данных из RAM в GPU и обратно."
      ]
    },
    {
      "cell_type": "code",
      "execution_count": null,
      "metadata": {
        "colab": {
          "base_uri": "https://localhost:8080/"
        },
        "id": "ifnlR9iJQ_ho",
        "outputId": "ad83a1a1-d9c0-4f8d-b797-aa57254e74d9"
      },
      "outputs": [
        {
          "output_type": "stream",
          "name": "stdout",
          "text": [
            "<numba.cuda.cudadrv.devicearray.DeviceNDArray object at 0x7fa504077b50>\n",
            "(10000000,)\n",
            "float32\n"
          ]
        }
      ],
      "source": [
        "from numba import cuda\n",
        "\n",
        "x = np.arange(0, 1e6, 0.1, dtype=np.float32)\n",
        "x_device = cuda.to_device(x)\n",
        "\n",
        "print(x_device)\n",
        "print(x_device.shape)\n",
        "print(x_device.dtype)"
      ]
    },
    {
      "cell_type": "markdown",
      "metadata": {
        "id": "wZ9v7wVxUqnh"
      },
      "source": [
        "Теперь запустим функцию `gpu_sqrt` с массивом, уже загруженным в GPU"
      ]
    },
    {
      "cell_type": "code",
      "execution_count": null,
      "metadata": {
        "colab": {
          "base_uri": "https://localhost:8080/"
        },
        "id": "xUyhC0E8UqQv",
        "outputId": "4f451df6-8237-4007-fd65-6075516ae391"
      },
      "outputs": [
        {
          "output_type": "execute_result",
          "data": {
            "text/plain": [
              "<numba.cuda.cudadrv.devicearray.DeviceNDArray at 0x7fa4ffcc9450>"
            ]
          },
          "metadata": {},
          "execution_count": 73
        }
      ],
      "source": [
        "gpu_sqrt(x_device)"
      ]
    },
    {
      "cell_type": "markdown",
      "metadata": {
        "id": "ejIFXAC0VQ-J"
      },
      "source": [
        "Сравним производительность"
      ]
    },
    {
      "cell_type": "code",
      "execution_count": null,
      "metadata": {
        "colab": {
          "base_uri": "https://localhost:8080/"
        },
        "id": "Bq0re5k7U5Nl",
        "outputId": "2bf04978-2ffa-4bbc-f403-7f22aa622aee"
      },
      "outputs": [
        {
          "output_type": "stream",
          "name": "stdout",
          "text": [
            "1.46 ms ± 74.7 µs per loop (mean ± std. dev. of 7 runs, 1000 loops each)\n"
          ]
        }
      ],
      "source": [
        "%timeit gpu_sqrt(x_device)"
      ]
    },
    {
      "cell_type": "code",
      "execution_count": null,
      "metadata": {
        "colab": {
          "base_uri": "https://localhost:8080/"
        },
        "id": "9QOdQm_sU900",
        "outputId": "47b03a22-b95c-4482-eddb-18813f1ab298"
      },
      "outputs": [
        {
          "output_type": "stream",
          "name": "stdout",
          "text": [
            "27.6 ms ± 605 µs per loop (mean ± std. dev. of 7 runs, 10 loops each)\n"
          ]
        }
      ],
      "source": [
        "%timeit gpu_sqrt(x)"
      ]
    },
    {
      "cell_type": "markdown",
      "metadata": {
        "id": "LXrOZ37TVWIW"
      },
      "source": [
        "Видим существенный прирост к производительности функции. Но numba по-прежнему создает новый массив на GPU и передает его обратно в память.\n",
        "\n",
        "Создадим сами новый массив на GPU для выходных данных."
      ]
    },
    {
      "cell_type": "code",
      "execution_count": null,
      "metadata": {
        "id": "1tD8pT6qVV00"
      },
      "outputs": [],
      "source": [
        "out_device = cuda.device_array(shape=(int(1e7),), dtype=np.float32)"
      ]
    },
    {
      "cell_type": "markdown",
      "metadata": {
        "id": "8lLMqjNIWcTU"
      },
      "source": [
        "И передадим его в универсальную функцию с помощью аргумента `out`."
      ]
    },
    {
      "cell_type": "code",
      "execution_count": null,
      "metadata": {
        "colab": {
          "base_uri": "https://localhost:8080/"
        },
        "id": "2HRe-yjlR42d",
        "outputId": "ab45fefe-0036-4e45-9913-7c528c54e064"
      },
      "outputs": [
        {
          "output_type": "execute_result",
          "data": {
            "text/plain": [
              "<numba.cuda.cudadrv.devicearray.DeviceNDArray at 0x7fa504087fd0>"
            ]
          },
          "metadata": {},
          "execution_count": 77
        }
      ],
      "source": [
        "gpu_sqrt(x_device, out=out_device)"
      ]
    },
    {
      "cell_type": "code",
      "execution_count": null,
      "metadata": {
        "colab": {
          "base_uri": "https://localhost:8080/"
        },
        "id": "lhea42L_Wm1p",
        "outputId": "18bae5c9-52fc-4c34-95a2-7b002c6dd55c"
      },
      "outputs": [
        {
          "output_type": "stream",
          "name": "stdout",
          "text": [
            "565 µs ± 49.2 µs per loop (mean ± std. dev. of 7 runs, 1000 loops each)\n"
          ]
        }
      ],
      "source": [
        "%timeit gpu_sqrt(x_device, out=out_device); cuda.synchronize()"
      ]
    },
    {
      "cell_type": "markdown",
      "metadata": {
        "id": "8A2h0ghhW9Mq"
      },
      "source": [
        "Осталось лишь скопировать значения из GPU в память"
      ]
    },
    {
      "cell_type": "code",
      "execution_count": null,
      "metadata": {
        "colab": {
          "base_uri": "https://localhost:8080/"
        },
        "id": "TlusiY9ZW-X5",
        "outputId": "9a2b7f54-cfa5-4a3d-8f11-fa985b5d8ac4"
      },
      "outputs": [
        {
          "output_type": "execute_result",
          "data": {
            "text/plain": [
              "array([0.0000000e+00, 3.1622776e-01, 4.4721359e-01, ..., 9.9999982e+02,\n",
              "       9.9999988e+02, 9.9999994e+02], dtype=float32)"
            ]
          },
          "metadata": {},
          "execution_count": 79
        }
      ],
      "source": [
        "res = out_device.copy_to_host()\n",
        "res"
      ]
    },
    {
      "cell_type": "markdown",
      "metadata": {
        "id": "-P_vTyWmXUrE"
      },
      "source": [
        "### 1.6. Написание CUDA ядер"
      ]
    },
    {
      "cell_type": "markdown",
      "metadata": {
        "id": "NiS-TKFcXeOP"
      },
      "source": [
        "Универсальные функции - это очень удобно, но не все функции можно описать в виде универсальных. В таких случаях нам нужно работать с CUDA напрямую, используя функции из модуля `numba.cuda`.\n",
        "\n",
        "Самое ключевое для понимания CUDA - следующая картинка:\n",
        "\n",
        "![Thread Hierarchy](https://www.microway.com/wp-content/uploads/CUDA-GridBlockThread-Structure.png)\n",
        "\n",
        "CUDA-ядро - функция, которая описывает логику работы одного **потока** (нить, thread). CUDA запустит ядро по **сетке потоков** (grid), состоящей из **блоков** (block) потоков. Потоки внутри одного блока могут обмениваться данными во время выполнения, в то время как потоки в разных блоках, как правило, никак не взаимодействуют друг с другом.\n",
        "\n",
        "Важная часть решения задачи - определение размеров блока и сетки. Есть ряд общих рекоммендаций:\n",
        "* размер блока должен быть кратен 32, наиболее используемые блоки размером между 128 и 512\n",
        "* размер сетки должен быть таким, чтобы GPU использовалось по-максимуму, без простаивающих потоков.\n",
        "\n",
        "Каждый поток и каждый блок имеют свой уникальный идентификатор, которые можно получить в коде из переменных `cuda.threadIdx` и `cuda.blockIdx` соответсвенно.\n",
        "\n",
        "Размер блока можно получить из переменной `cuda.blockDim`. Значение для этой переменной будет одинаковым для всех потоков во всех блоках.\n",
        "\n",
        "Размер сетки хранится в переменной `cuda.gridDim`.\n",
        "\n",
        "Начнем с простого примера: напишем функцию, складывающую два массива"
      ]
    },
    {
      "cell_type": "code",
      "execution_count": null,
      "metadata": {
        "id": "T1xO_Mg8Xe3V"
      },
      "outputs": [],
      "source": [
        "@cuda.jit\n",
        "def add(x, y, out):\n",
        "  tid = cuda.threadIdx.x\n",
        "  bid = cuda.blockIdx.x\n",
        "  bw = cuda.blockDim.x\n",
        "  i = tid + bid * bw\n",
        "  if i < x.size: # если текущий поток не обрабатывает никаких входных данных, ничего не делаем\n",
        "    out[i] = x[i] + y[i]"
      ]
    },
    {
      "cell_type": "markdown",
      "metadata": {
        "id": "NkAZsvnkb5vL"
      },
      "source": [
        "Подготовим входные данные"
      ]
    },
    {
      "cell_type": "code",
      "execution_count": null,
      "metadata": {
        "id": "4XIs9FBcbkqO"
      },
      "outputs": [],
      "source": [
        "N = int(1e7)\n",
        "x = np.random.random(N).astype(np.float32)\n",
        "y = np.random.random(N).astype(np.float32)\n",
        "\n",
        "x_device = cuda.to_device(x)\n",
        "y_device = cuda.to_device(y)\n",
        "out = cuda.device_array_like(x_device) # создает пустой массив такой же формы и размера, что и переданный в качестве аргумента массив"
      ]
    },
    {
      "cell_type": "markdown",
      "metadata": {
        "id": "-aztfQInb7hN"
      },
      "source": [
        "Запустим вычисления"
      ]
    },
    {
      "cell_type": "code",
      "execution_count": null,
      "metadata": {
        "colab": {
          "base_uri": "https://localhost:8080/"
        },
        "id": "VA3wOviucDgs",
        "outputId": "0d5eb46d-480b-4a75-ac04-8d2d2a120ef8"
      },
      "outputs": [
        {
          "output_type": "stream",
          "name": "stdout",
          "text": [
            "[1.1319119  1.0442406  1.3577399  ... 0.8113909  0.80282843 1.220015  ]\n"
          ]
        }
      ],
      "source": [
        "nthreads = 256 # количество потоков в одном блоке\n",
        "nblocks = (len(x_device) // nthreads) + 1 # вычисляем количество блоков, необходимых для решения задачи\n",
        "add[nblocks, nthreads](x_device, y_device, out)\n",
        "print(out.copy_to_host())"
      ]
    },
    {
      "cell_type": "markdown",
      "metadata": {
        "id": "8Fj9SMdSc1nj"
      },
      "source": [
        "И теперь скомпануем всё в одну функцию"
      ]
    },
    {
      "cell_type": "code",
      "execution_count": null,
      "metadata": {
        "colab": {
          "base_uri": "https://localhost:8080/"
        },
        "id": "39YmUnskc1Gl",
        "outputId": "1ca9b115-2f19-419d-a622-d330fbd6e3a6"
      },
      "outputs": [
        {
          "output_type": "execute_result",
          "data": {
            "text/plain": [
              "array([1.1319119 , 1.0442406 , 1.3577399 , ..., 0.8113909 , 0.80282843,\n",
              "       1.220015  ], dtype=float32)"
            ]
          },
          "metadata": {},
          "execution_count": 87
        }
      ],
      "source": [
        "def gpu_add(x, y):\n",
        "  x_device = cuda.to_device(x)\n",
        "  y_device = cuda.to_device(y)\n",
        "  out = cuda.device_array_like(x_device)\n",
        "\n",
        "  nthreads = 256 # количество потоков в одном блоке\n",
        "  nblocks = (len(x_device) // nthreads) + 1 # вычисляем количество блоков, необходимых для решения задачи\n",
        "  add[nblocks, nthreads](x_device, y_device, out)\n",
        "  return out.copy_to_host()\n",
        "\n",
        "gpu_add(x, y)"
      ]
    },
    {
      "cell_type": "markdown",
      "metadata": {
        "id": "uNk8K0CBdj6R"
      },
      "source": [
        "Вернемся к функции `add`. Большинство CUDA ядер будут вычислять индекс по номерам потока и блока аналогичным образом. Поэтому существует вспомогательная функция `cuda.grid(n)`, которая делает такие вычисления. Используя её, функцию можно переписать в следующем виде"
      ]
    },
    {
      "cell_type": "code",
      "execution_count": null,
      "metadata": {
        "id": "uHixWu6ydkXT"
      },
      "outputs": [],
      "source": [
        "@cuda.jit\n",
        "def add(x, y, out):\n",
        "  i = cuda.grid(1)\n",
        "  if i < x.size: # если текущий поток не обрабатывает никаких входных данных, ничего не делаем\n",
        "    out[i] = x[i] + y[i]"
      ]
    },
    {
      "cell_type": "markdown",
      "source": [
        "Довольно часто при реализации CUDA-ядер используют следующие параметры:\n",
        "\n",
        "+ `nopython=True` - говорит, что скомпилированный код не должен взаимодействовать с Python C API. Благодаря параметру генерируется (чаще всего) наиболее высокопроизводительный код, но требует избавляться от нативных Python-объектов, но прекраско поддерживая массивы NumPy. Из-за своей популярности в numba появился `@njit`, который является алиасом для `@jit(nopython=Truе)`.\n",
        "+ `nogil=True` - говорит, что при компиляции в нативный код не должен удерживаться **Global Interpreter Lock - GIL**, который является стопором для параллелизации на Python, но гарантирует отсутствие стандартных проблем многопоточного программирования (deadlock, состояние гонок, и т.п.).\n",
        "+ `cache=True` - говорит, что результат функции должен храниться в кэше.\n",
        "+ `parallel=True` - говорит, что компилятор должен автоматически распараллелить и оптимизировать в функции [некоторые операции](https://numba.readthedocs.io/en/stable/user/parallel.html)."
      ],
      "metadata": {
        "id": "jfPmMO-vTHYv"
      }
    },
    {
      "cell_type": "markdown",
      "metadata": {
        "id": "Ax-lm_tkejan"
      },
      "source": [
        "### 1.7. Сумма элементов в массиве и интегрирование: параллельная версия"
      ]
    },
    {
      "cell_type": "markdown",
      "metadata": {
        "id": "nikIx8yvepZ9"
      },
      "source": [
        "Дан массив из `N` элементов. Необходимо найти из сумму.\n",
        "\n",
        "Последовательная реализация максимально проста:"
      ]
    },
    {
      "cell_type": "code",
      "execution_count": null,
      "metadata": {
        "colab": {
          "base_uri": "https://localhost:8080/"
        },
        "id": "FqJboPl6fQXh",
        "outputId": "d621028c-4b13-4ed9-bb27-a5cc77b51ad3"
      },
      "outputs": [
        {
          "output_type": "execute_result",
          "data": {
            "text/plain": [
              "np.float64(539.5287271159144)"
            ]
          },
          "metadata": {},
          "execution_count": 89
        }
      ],
      "source": [
        "N = 1024\n",
        "a = np.random.random(N)\n",
        "sum(a)"
      ]
    },
    {
      "cell_type": "markdown",
      "metadata": {
        "id": "ymoMDy-ogT7_"
      },
      "source": [
        "В качестве параллельной версии можно использовать алгоритм редукции. Реализуем его простую версию.\n",
        "\n",
        "Загрузим входные данные в GPU, опишем ядро и запустим его"
      ]
    },
    {
      "cell_type": "code",
      "execution_count": null,
      "metadata": {
        "colab": {
          "base_uri": "https://localhost:8080/"
        },
        "id": "L_6LwAXNgdZy",
        "outputId": "3cc3a1c6-6b29-4b64-8824-af85d116fb08"
      },
      "outputs": [
        {
          "output_type": "execute_result",
          "data": {
            "text/plain": [
              "np.float64(539.5286865234375)"
            ]
          },
          "metadata": {},
          "execution_count": 90
        }
      ],
      "source": [
        "from numba import float32\n",
        "\n",
        "a_device = cuda.to_device(a)\n",
        "nelem = len(a)\n",
        "\n",
        "@cuda.jit\n",
        "def array_sum(data):\n",
        "  tid = cuda.threadIdx.x\n",
        "  size = len(data)\n",
        "  if tid < size:\n",
        "    i = cuda.grid(1)\n",
        "\n",
        "    # Определим общую память для потоков\n",
        "    shr = cuda.shared.array(nelem, float32)\n",
        "    shr[tid] = data[i]\n",
        "\n",
        "    # syncthreads() гарантирует, что\n",
        "    # изменения данных видны всем потокам\n",
        "    cuda.syncthreads()\n",
        "\n",
        "    s = 1\n",
        "    while s < cuda.blockDim.x:\n",
        "      if tid % (2 * s) == 0:\n",
        "        shr[tid] += shr[tid + s]\n",
        "      s *= 2\n",
        "      cuda.syncthreads()\n",
        "\n",
        "    # После суммирования нулевой элемент хранит результат\n",
        "    if tid == 0:\n",
        "      data[tid] = shr[tid]\n",
        "\n",
        "array_sum[1, nelem](a_device)\n",
        "a_device[0]"
      ]
    },
    {
      "cell_type": "markdown",
      "metadata": {
        "id": "fQn51j0vroxT"
      },
      "source": [
        "Данный алгоритм довольно сложен, поэтому `numba` предоставляет его реализацию через декоратор `@cuda.reduce`"
      ]
    },
    {
      "cell_type": "code",
      "execution_count": null,
      "metadata": {
        "colab": {
          "base_uri": "https://localhost:8080/"
        },
        "id": "jAAbN0RmrpQo",
        "outputId": "e3408ebf-e993-463e-f00b-5b61e55ffad4"
      },
      "outputs": [
        {
          "output_type": "execute_result",
          "data": {
            "text/plain": [
              "np.float64(539.5287271159151)"
            ]
          },
          "metadata": {},
          "execution_count": 91
        }
      ],
      "source": [
        "@cuda.reduce\n",
        "def sum_reduce(a, b):\n",
        "  return a + b\n",
        "\n",
        "sum_reduce(a)"
      ]
    },
    {
      "cell_type": "markdown",
      "metadata": {
        "id": "Ctnt2pZMsMtt"
      },
      "source": [
        "Реализуем численное интегрирование методом квадратур в параллельном варианте"
      ]
    },
    {
      "cell_type": "code",
      "execution_count": null,
      "metadata": {
        "id": "CnBrqcAesFel"
      },
      "outputs": [],
      "source": [
        "def integrate_gpu(f, a, b):\n",
        "  n = 10**6\n",
        "  h = (b - a) / n\n",
        "  x = np.arange(a, b + h, h)\n",
        "  y = np.vectorize(f)(x) * h\n",
        "  y[0] = y[0] / 2\n",
        "  y[-1] = y[-1] / 2\n",
        "  return sum_reduce(y)\n",
        "\n",
        "def integrate_numpy(f, a, b):\n",
        "  n = 10**6\n",
        "  h = (b - a) / n\n",
        "  x = np.arange(a, b + h, h)\n",
        "  y = np.vectorize(f)(x) * h\n",
        "  y[0] = y[0] / 2\n",
        "  y[-1] = y[-1] / 2\n",
        "  return np.sum(y)"
      ]
    },
    {
      "cell_type": "code",
      "execution_count": null,
      "metadata": {
        "colab": {
          "base_uri": "https://localhost:8080/"
        },
        "id": "yO1gRdzytQMF",
        "outputId": "7353588b-bd82-4421-a53e-10e04acb1fab"
      },
      "outputs": [
        {
          "output_type": "stream",
          "name": "stdout",
          "text": [
            "183 ms ± 29.3 ms per loop (mean ± std. dev. of 7 runs, 10 loops each)\n",
            "182 ms ± 38.2 ms per loop (mean ± std. dev. of 7 runs, 10 loops each)\n"
          ]
        }
      ],
      "source": [
        "import math\n",
        "\n",
        "%timeit integrate_gpu(lambda x: math.sin(x), 0, 2)\n",
        "%timeit integrate_numpy(lambda x: math.sin(x), 0, 2)"
      ]
    },
    {
      "cell_type": "markdown",
      "metadata": {
        "id": "S570zL-eIj7u"
      },
      "source": [
        "Подводя итог, numba дает в следующих случаях:\n",
        "\n",
        "+ Если требуется реализовать кастомные операции, которые не поддерживаются встроенными функции уже готовых библиотек, например, NumPy;\n",
        "+ Когда нужно реализовать параллельные циклы, которые нельзя явно векторизовать через NumPy;\n",
        "+ Когда GPU достаточно мощная и поддерживает серьезные вычисления;\n",
        "\n",
        "При этом, лучше не использовать numba, если:\n",
        "\n",
        "+ Функции достаточно просты, чтобы обычная векторизация была выгодней;\n",
        "+ Когда работа с памятью и особенности numba (например, особенности JIT-компилятора) перебивают выгоду применения на слишком маленьких функциях"
      ]
    },
    {
      "cell_type": "markdown",
      "metadata": {
        "id": "EiRvFkydIg20"
      },
      "source": [
        "## 2. PyCUDA"
      ]
    },
    {
      "cell_type": "markdown",
      "source": [
        "PyCUDA - это библиотека, выступающая в качестве интерфейса для CUDA C, которая позволяет создавать более удобные программы, поддерживая инструменты наподобие NumPy, когда написание на самом CUDA C неудобно или нежелательно.\n"
      ],
      "metadata": {
        "id": "QS28_tSmo5-x"
      }
    },
    {
      "cell_type": "markdown",
      "source": [
        "Чтобы установить библиотеку, нужно выполнить команду:"
      ],
      "metadata": {
        "id": "nAqIlS1Mr33o"
      }
    },
    {
      "cell_type": "code",
      "source": [
        "!pip install pycuda"
      ],
      "metadata": {
        "colab": {
          "base_uri": "https://localhost:8080/"
        },
        "id": "5YZlLN5ipWWM",
        "outputId": "7a8d5cfc-1bf4-407b-8851-b0823b3d5272"
      },
      "execution_count": null,
      "outputs": [
        {
          "output_type": "stream",
          "name": "stdout",
          "text": [
            "Requirement already satisfied: pycuda in /usr/local/lib/python3.11/dist-packages (2025.1)\n",
            "Requirement already satisfied: pytools>=2011.2 in /usr/local/lib/python3.11/dist-packages (from pycuda) (2025.1.3)\n",
            "Requirement already satisfied: platformdirs>=2.2.0 in /usr/local/lib/python3.11/dist-packages (from pycuda) (4.3.6)\n",
            "Requirement already satisfied: mako in /usr/local/lib/python3.11/dist-packages (from pycuda) (1.3.10)\n",
            "Requirement already satisfied: siphash24>=1.6 in /usr/local/lib/python3.11/dist-packages (from pytools>=2011.2->pycuda) (1.7)\n",
            "Requirement already satisfied: typing-extensions>=4.5 in /usr/local/lib/python3.11/dist-packages (from pytools>=2011.2->pycuda) (4.12.2)\n",
            "Requirement already satisfied: MarkupSafe>=0.9.2 in /usr/local/lib/python3.11/dist-packages (from mako->pycuda) (3.0.2)\n"
          ]
        }
      ]
    },
    {
      "cell_type": "markdown",
      "source": [
        "Так как PyCUDA - это интерфейс, то, в отличие от numba, требуется **явно прописывать код на CUDA C, управлять памятью, устройствами**.\n",
        "\n",
        "Для начала, требуется инициализировать саму PyCUDA и его драйвер:"
      ],
      "metadata": {
        "id": "b5BBYT9_r9bD"
      }
    },
    {
      "cell_type": "code",
      "source": [
        "import numpy as np\n",
        "from pycuda import driver, compiler, gpuarray\n",
        "\n",
        "driver.init()"
      ],
      "metadata": {
        "id": "2QyHzXNOs1Jm"
      },
      "execution_count": null,
      "outputs": []
    },
    {
      "cell_type": "markdown",
      "source": [
        "Затем, для самой CUDA требуется определить целевое устройство (GPU, которое будет использоваться) и инициализировать его:"
      ],
      "metadata": {
        "id": "oUuG8oSMs2r3"
      }
    },
    {
      "cell_type": "code",
      "source": [
        "# Поскольку в Colab обычно доступно только одно T4,\n",
        "# то выбираем только его\n",
        "device = driver.Device(0)\n",
        "context = device.make_context()"
      ],
      "metadata": {
        "id": "wu135wUBtSuf"
      },
      "execution_count": null,
      "outputs": []
    },
    {
      "cell_type": "markdown",
      "source": [
        "Код ядра обычно будет выглядить так:"
      ],
      "metadata": {
        "id": "uYuevTbHuAaQ"
      }
    },
    {
      "cell_type": "code",
      "source": [
        "# CUDA ядро на языке C\n",
        "kernel_code = \"\"\"\n",
        "__global__ void add_arrays(float *a, float *b, float *c) {\n",
        "    int i = threadIdx.x;\n",
        "    c[i] = a[i] + b[i];\n",
        "}\n",
        "\"\"\"\n",
        "\n",
        "# Compile the CUDA kernel\n",
        "module = compiler.SourceModule(kernel_code)"
      ],
      "metadata": {
        "id": "CAJvYOkQpX8K"
      },
      "execution_count": null,
      "outputs": []
    },
    {
      "cell_type": "markdown",
      "source": [
        "Важно: код, который используется, должен быть корректен с точки зрения компилятора CUDA `nvcc`, т.е. должен компилироваться.\n",
        "\n",
        "Далее, идет схожая схема с numba: передача данных на устройство, вызов ядра с параметрами grid-а, передача результата на хост:"
      ],
      "metadata": {
        "id": "_SBogyk9uNKL"
      }
    },
    {
      "cell_type": "code",
      "source": [
        "a_gpu = gpuarray.to_gpu(np.random.randn(100).astype(np.float32))\n",
        "b_gpu = gpuarray.to_gpu(np.random.randn(100).astype(np.float32))\n",
        "c_gpu = gpuarray.empty_like(a_gpu)\n",
        "\n",
        "# Запуск ядра\n",
        "add_arrays = module.get_function(\"add_arrays\")\n",
        "add_arrays(a_gpu, b_gpu, c_gpu, block=(100, 1, 1))\n",
        "\n",
        "# Передача на хост\n",
        "c_cpu = c_gpu.get()"
      ],
      "metadata": {
        "id": "AeqDOrEZuin3"
      },
      "execution_count": null,
      "outputs": []
    },
    {
      "cell_type": "markdown",
      "source": [
        "В отличие от numba, PyCUDA позволяет очищать кэш и контекст, высвобождая ресурсы GPU. Делается это следующим образом:"
      ],
      "metadata": {
        "id": "9Xb4joImvZ3S"
      }
    },
    {
      "cell_type": "code",
      "source": [
        "context.pop()"
      ],
      "metadata": {
        "id": "ap0T4jWovZgr"
      },
      "execution_count": null,
      "outputs": []
    },
    {
      "cell_type": "markdown",
      "metadata": {
        "id": "JULqZT5Yq5sD"
      },
      "source": [
        "## Задание"
      ]
    },
    {
      "cell_type": "markdown",
      "source": [
        "Реализовать задачу параллельно через numba+CUDA или PyCUDA по вариантам.\n",
        "\n",
        "**Требования**:\n",
        "1. Должна быть реализована последовательная (pure-Python и\\или NumPy-версия) и параллельная версия на GPU.\n",
        "2. Измерьте время выполнения распараллеленной части (без выделения памяти, если она явно присутствует). Постройте график времени выполнения в зависимости от количества элементов. Объясните результат.\n",
        "3. Поэкспериментируйте с типами данных. Как влияет выбор того или иного типа данных на точность вычислений и время?\n",
        "\n",
        "**Варианты**:\n",
        "\n",
        "1. Реализовать метод Гаусса для решения СЛАУ.\n",
        "2. Реализовать произведение Адамара с последующей редукцией (простейшая одномерная свертка).\n",
        "3. Дан двумерный массив точек размером (N, 2). Реализовать функцию, которая возвращает матрицу (N, N), в которой элемент (i, j) — евклидово расстояние между точками i и j.\n",
        "4. Реализовать вычисление числа $\\pi$ методом Монте-Карло.\n",
        "5. Реализовать матричную функцию ReLU."
      ],
      "metadata": {
        "id": "906pJbxVJHlZ"
      }
    }
  ],
  "metadata": {
    "accelerator": "GPU",
    "colab": {
      "provenance": []
    },
    "gpuClass": "standard",
    "kernelspec": {
      "display_name": "Python 3.10.5 ('venv': venv)",
      "language": "python",
      "name": "python3"
    },
    "language_info": {
      "name": "python",
      "version": "3.10.5"
    },
    "vscode": {
      "interpreter": {
        "hash": "4a6a0183f14a70c0e5860f87460ec3f6bea066e65ce4a436bee4a4bf35d573d6"
      }
    }
  },
  "nbformat": 4,
  "nbformat_minor": 0
}